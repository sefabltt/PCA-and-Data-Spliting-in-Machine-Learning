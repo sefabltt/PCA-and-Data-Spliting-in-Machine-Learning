{
  "cells": [
    {
      "cell_type": "code",
      "execution_count": null,
      "metadata": {
        "id": "7GRDLiw2lMUT"
      },
      "outputs": [],
      "source": [
        "# PCA (Principal Component Analysis)\n",
        "\n",
        "# Principal component analysis (PCA) is a method of reducing the dimensionality of data and is used to improve data visualization and speed up machine learning model training.\n",
        "# Çok boyutlu datalar 2 ya da 3 boyuta indirgenerek görselleştirme kolaylaştırılabilir ve data daha iyi anlaşılabilir.\n",
        "# Amaç hızlandırmak değil, sonuç olarak hızlanıyor zaten."
      ]
    },
    {
      "cell_type": "code",
      "execution_count": null,
      "metadata": {
        "id": "6xpcHFcSlVni"
      },
      "outputs": [],
      "source": [
        "# Python'da PCA uygulamak için genellikle scikit-learn kütüphanesi kullanılır.\n",
        "import numpy as np\n",
        "import pandas as pd\n",
        "import matplotlib.pyplot as plt\n",
        "from sklearn.decomposition import PCA\n",
        "from sklearn.preprocessing import StandardScaler"
      ]
    },
    {
      "cell_type": "code",
      "execution_count": null,
      "metadata": {
        "id": "ASrtglval4PF"
      },
      "outputs": [],
      "source": [
        "from sklearn.datasets import load_breast_cancer"
      ]
    },
    {
      "cell_type": "code",
      "execution_count": null,
      "metadata": {
        "colab": {
          "base_uri": "https://localhost:8080/"
        },
        "id": "Ey2tNlTcl7_r",
        "outputId": "3bb1224e-8a94-4cf3-e20c-fd62e4f018e3"
      },
      "outputs": [
        {
          "output_type": "stream",
          "name": "stdout",
          "text": [
            "['mean radius' 'mean texture' 'mean perimeter' 'mean area'\n",
            " 'mean smoothness' 'mean compactness' 'mean concavity'\n",
            " 'mean concave points' 'mean symmetry' 'mean fractal dimension'\n",
            " 'radius error' 'texture error' 'perimeter error' 'area error'\n",
            " 'smoothness error' 'compactness error' 'concavity error'\n",
            " 'concave points error' 'symmetry error' 'fractal dimension error'\n",
            " 'worst radius' 'worst texture' 'worst perimeter' 'worst area'\n",
            " 'worst smoothness' 'worst compactness' 'worst concavity'\n",
            " 'worst concave points' 'worst symmetry' 'worst fractal dimension']\n",
            "['malignant' 'benign']\n",
            "   mean radius  mean texture  mean perimeter  mean area  mean smoothness  \\\n",
            "0        17.99         10.38          122.80     1001.0          0.11840   \n",
            "1        20.57         17.77          132.90     1326.0          0.08474   \n",
            "2        19.69         21.25          130.00     1203.0          0.10960   \n",
            "3        11.42         20.38           77.58      386.1          0.14250   \n",
            "4        20.29         14.34          135.10     1297.0          0.10030   \n",
            "\n",
            "   mean compactness  mean concavity  mean concave points  mean symmetry  \\\n",
            "0           0.27760          0.3001              0.14710         0.2419   \n",
            "1           0.07864          0.0869              0.07017         0.1812   \n",
            "2           0.15990          0.1974              0.12790         0.2069   \n",
            "3           0.28390          0.2414              0.10520         0.2597   \n",
            "4           0.13280          0.1980              0.10430         0.1809   \n",
            "\n",
            "   mean fractal dimension  ...  worst texture  worst perimeter  worst area  \\\n",
            "0                 0.07871  ...          17.33           184.60      2019.0   \n",
            "1                 0.05667  ...          23.41           158.80      1956.0   \n",
            "2                 0.05999  ...          25.53           152.50      1709.0   \n",
            "3                 0.09744  ...          26.50            98.87       567.7   \n",
            "4                 0.05883  ...          16.67           152.20      1575.0   \n",
            "\n",
            "   worst smoothness  worst compactness  worst concavity  worst concave points  \\\n",
            "0            0.1622             0.6656           0.7119                0.2654   \n",
            "1            0.1238             0.1866           0.2416                0.1860   \n",
            "2            0.1444             0.4245           0.4504                0.2430   \n",
            "3            0.2098             0.8663           0.6869                0.2575   \n",
            "4            0.1374             0.2050           0.4000                0.1625   \n",
            "\n",
            "   worst symmetry  worst fractal dimension  target  \n",
            "0          0.4601                  0.11890       0  \n",
            "1          0.2750                  0.08902       0  \n",
            "2          0.3613                  0.08758       0  \n",
            "3          0.6638                  0.17300       0  \n",
            "4          0.2364                  0.07678       0  \n",
            "\n",
            "[5 rows x 31 columns]\n"
          ]
        }
      ],
      "source": [
        "\n",
        "cancer_data = load_breast_cancer()\n",
        "\n",
        "X = cancer_data.data\n",
        "y = cancer_data.target\n",
        "\n",
        "feature_names = cancer_data.feature_names\n",
        "target_names = cancer_data.target_names\n",
        "\n",
        "df = pd.DataFrame(X, columns=feature_names)\n",
        "df['target'] = y\n",
        "\n",
        "print(feature_names)\n",
        "print(target_names)\n",
        "print( df.head())"
      ]
    },
    {
      "cell_type": "code",
      "execution_count": null,
      "metadata": {
        "id": "5xxRUeV_mvJq"
      },
      "outputs": [],
      "source": [
        "# target kısmında 0 iyi huylu, 1 kötü huylu anlamına kanser anlamına gelir.\n",
        "\n",
        "##### PCA'nın doğru çalışması için verilerin standartlaştırılması gerekmektedir.\n",
        "\n",
        "scaler = StandardScaler() #StandardScaler kullanarak verileri standartlaştırmak, veriler üzerindeki her bir özelliği ortalamasını sıfır ve standart sapmasını bir yapacak şekilde dönüştürür. Bu işlem, makine öğrenme algoritmalarının daha iyi performans göstermesine ve verinin çeşitli analizlerde daha anlamlı hale gelmesine yardımcı olabilir.\n",
        "X_scaled = scaler.fit_transform(X)"
      ]
    },
    {
      "cell_type": "code",
      "execution_count": null,
      "metadata": {
        "colab": {
          "base_uri": "https://localhost:8080/",
          "height": 206
        },
        "id": "txH64eZXoIPF",
        "outputId": "6fd0fb32-d14d-425b-cb1d-7785a65e334a"
      },
      "outputs": [
        {
          "output_type": "execute_result",
          "data": {
            "text/plain": [
              "   principal component 1  principal component 2\n",
              "0               9.192837               1.948583\n",
              "1               2.387802              -3.768172\n",
              "2               5.733896              -1.075174\n",
              "3               7.122953              10.275589\n",
              "4               3.935302              -1.948072"
            ],
            "text/html": [
              "\n",
              "  <div id=\"df-e179ef85-7d3b-4daa-a2d6-26e7bf362581\" class=\"colab-df-container\">\n",
              "    <div>\n",
              "<style scoped>\n",
              "    .dataframe tbody tr th:only-of-type {\n",
              "        vertical-align: middle;\n",
              "    }\n",
              "\n",
              "    .dataframe tbody tr th {\n",
              "        vertical-align: top;\n",
              "    }\n",
              "\n",
              "    .dataframe thead th {\n",
              "        text-align: right;\n",
              "    }\n",
              "</style>\n",
              "<table border=\"1\" class=\"dataframe\">\n",
              "  <thead>\n",
              "    <tr style=\"text-align: right;\">\n",
              "      <th></th>\n",
              "      <th>principal component 1</th>\n",
              "      <th>principal component 2</th>\n",
              "    </tr>\n",
              "  </thead>\n",
              "  <tbody>\n",
              "    <tr>\n",
              "      <th>0</th>\n",
              "      <td>9.192837</td>\n",
              "      <td>1.948583</td>\n",
              "    </tr>\n",
              "    <tr>\n",
              "      <th>1</th>\n",
              "      <td>2.387802</td>\n",
              "      <td>-3.768172</td>\n",
              "    </tr>\n",
              "    <tr>\n",
              "      <th>2</th>\n",
              "      <td>5.733896</td>\n",
              "      <td>-1.075174</td>\n",
              "    </tr>\n",
              "    <tr>\n",
              "      <th>3</th>\n",
              "      <td>7.122953</td>\n",
              "      <td>10.275589</td>\n",
              "    </tr>\n",
              "    <tr>\n",
              "      <th>4</th>\n",
              "      <td>3.935302</td>\n",
              "      <td>-1.948072</td>\n",
              "    </tr>\n",
              "  </tbody>\n",
              "</table>\n",
              "</div>\n",
              "    <div class=\"colab-df-buttons\">\n",
              "\n",
              "  <div class=\"colab-df-container\">\n",
              "    <button class=\"colab-df-convert\" onclick=\"convertToInteractive('df-e179ef85-7d3b-4daa-a2d6-26e7bf362581')\"\n",
              "            title=\"Convert this dataframe to an interactive table.\"\n",
              "            style=\"display:none;\">\n",
              "\n",
              "  <svg xmlns=\"http://www.w3.org/2000/svg\" height=\"24px\" viewBox=\"0 -960 960 960\">\n",
              "    <path d=\"M120-120v-720h720v720H120Zm60-500h600v-160H180v160Zm220 220h160v-160H400v160Zm0 220h160v-160H400v160ZM180-400h160v-160H180v160Zm440 0h160v-160H620v160ZM180-180h160v-160H180v160Zm440 0h160v-160H620v160Z\"/>\n",
              "  </svg>\n",
              "    </button>\n",
              "\n",
              "  <style>\n",
              "    .colab-df-container {\n",
              "      display:flex;\n",
              "      gap: 12px;\n",
              "    }\n",
              "\n",
              "    .colab-df-convert {\n",
              "      background-color: #E8F0FE;\n",
              "      border: none;\n",
              "      border-radius: 50%;\n",
              "      cursor: pointer;\n",
              "      display: none;\n",
              "      fill: #1967D2;\n",
              "      height: 32px;\n",
              "      padding: 0 0 0 0;\n",
              "      width: 32px;\n",
              "    }\n",
              "\n",
              "    .colab-df-convert:hover {\n",
              "      background-color: #E2EBFA;\n",
              "      box-shadow: 0px 1px 2px rgba(60, 64, 67, 0.3), 0px 1px 3px 1px rgba(60, 64, 67, 0.15);\n",
              "      fill: #174EA6;\n",
              "    }\n",
              "\n",
              "    .colab-df-buttons div {\n",
              "      margin-bottom: 4px;\n",
              "    }\n",
              "\n",
              "    [theme=dark] .colab-df-convert {\n",
              "      background-color: #3B4455;\n",
              "      fill: #D2E3FC;\n",
              "    }\n",
              "\n",
              "    [theme=dark] .colab-df-convert:hover {\n",
              "      background-color: #434B5C;\n",
              "      box-shadow: 0px 1px 3px 1px rgba(0, 0, 0, 0.15);\n",
              "      filter: drop-shadow(0px 1px 2px rgba(0, 0, 0, 0.3));\n",
              "      fill: #FFFFFF;\n",
              "    }\n",
              "  </style>\n",
              "\n",
              "    <script>\n",
              "      const buttonEl =\n",
              "        document.querySelector('#df-e179ef85-7d3b-4daa-a2d6-26e7bf362581 button.colab-df-convert');\n",
              "      buttonEl.style.display =\n",
              "        google.colab.kernel.accessAllowed ? 'block' : 'none';\n",
              "\n",
              "      async function convertToInteractive(key) {\n",
              "        const element = document.querySelector('#df-e179ef85-7d3b-4daa-a2d6-26e7bf362581');\n",
              "        const dataTable =\n",
              "          await google.colab.kernel.invokeFunction('convertToInteractive',\n",
              "                                                    [key], {});\n",
              "        if (!dataTable) return;\n",
              "\n",
              "        const docLinkHtml = 'Like what you see? Visit the ' +\n",
              "          '<a target=\"_blank\" href=https://colab.research.google.com/notebooks/data_table.ipynb>data table notebook</a>'\n",
              "          + ' to learn more about interactive tables.';\n",
              "        element.innerHTML = '';\n",
              "        dataTable['output_type'] = 'display_data';\n",
              "        await google.colab.output.renderOutput(dataTable, element);\n",
              "        const docLink = document.createElement('div');\n",
              "        docLink.innerHTML = docLinkHtml;\n",
              "        element.appendChild(docLink);\n",
              "      }\n",
              "    </script>\n",
              "  </div>\n",
              "\n",
              "\n",
              "<div id=\"df-9a6e58d5-c089-4ec9-ad56-66c1f74eddb1\">\n",
              "  <button class=\"colab-df-quickchart\" onclick=\"quickchart('df-9a6e58d5-c089-4ec9-ad56-66c1f74eddb1')\"\n",
              "            title=\"Suggest charts\"\n",
              "            style=\"display:none;\">\n",
              "\n",
              "<svg xmlns=\"http://www.w3.org/2000/svg\" height=\"24px\"viewBox=\"0 0 24 24\"\n",
              "     width=\"24px\">\n",
              "    <g>\n",
              "        <path d=\"M19 3H5c-1.1 0-2 .9-2 2v14c0 1.1.9 2 2 2h14c1.1 0 2-.9 2-2V5c0-1.1-.9-2-2-2zM9 17H7v-7h2v7zm4 0h-2V7h2v10zm4 0h-2v-4h2v4z\"/>\n",
              "    </g>\n",
              "</svg>\n",
              "  </button>\n",
              "\n",
              "<style>\n",
              "  .colab-df-quickchart {\n",
              "      --bg-color: #E8F0FE;\n",
              "      --fill-color: #1967D2;\n",
              "      --hover-bg-color: #E2EBFA;\n",
              "      --hover-fill-color: #174EA6;\n",
              "      --disabled-fill-color: #AAA;\n",
              "      --disabled-bg-color: #DDD;\n",
              "  }\n",
              "\n",
              "  [theme=dark] .colab-df-quickchart {\n",
              "      --bg-color: #3B4455;\n",
              "      --fill-color: #D2E3FC;\n",
              "      --hover-bg-color: #434B5C;\n",
              "      --hover-fill-color: #FFFFFF;\n",
              "      --disabled-bg-color: #3B4455;\n",
              "      --disabled-fill-color: #666;\n",
              "  }\n",
              "\n",
              "  .colab-df-quickchart {\n",
              "    background-color: var(--bg-color);\n",
              "    border: none;\n",
              "    border-radius: 50%;\n",
              "    cursor: pointer;\n",
              "    display: none;\n",
              "    fill: var(--fill-color);\n",
              "    height: 32px;\n",
              "    padding: 0;\n",
              "    width: 32px;\n",
              "  }\n",
              "\n",
              "  .colab-df-quickchart:hover {\n",
              "    background-color: var(--hover-bg-color);\n",
              "    box-shadow: 0 1px 2px rgba(60, 64, 67, 0.3), 0 1px 3px 1px rgba(60, 64, 67, 0.15);\n",
              "    fill: var(--button-hover-fill-color);\n",
              "  }\n",
              "\n",
              "  .colab-df-quickchart-complete:disabled,\n",
              "  .colab-df-quickchart-complete:disabled:hover {\n",
              "    background-color: var(--disabled-bg-color);\n",
              "    fill: var(--disabled-fill-color);\n",
              "    box-shadow: none;\n",
              "  }\n",
              "\n",
              "  .colab-df-spinner {\n",
              "    border: 2px solid var(--fill-color);\n",
              "    border-color: transparent;\n",
              "    border-bottom-color: var(--fill-color);\n",
              "    animation:\n",
              "      spin 1s steps(1) infinite;\n",
              "  }\n",
              "\n",
              "  @keyframes spin {\n",
              "    0% {\n",
              "      border-color: transparent;\n",
              "      border-bottom-color: var(--fill-color);\n",
              "      border-left-color: var(--fill-color);\n",
              "    }\n",
              "    20% {\n",
              "      border-color: transparent;\n",
              "      border-left-color: var(--fill-color);\n",
              "      border-top-color: var(--fill-color);\n",
              "    }\n",
              "    30% {\n",
              "      border-color: transparent;\n",
              "      border-left-color: var(--fill-color);\n",
              "      border-top-color: var(--fill-color);\n",
              "      border-right-color: var(--fill-color);\n",
              "    }\n",
              "    40% {\n",
              "      border-color: transparent;\n",
              "      border-right-color: var(--fill-color);\n",
              "      border-top-color: var(--fill-color);\n",
              "    }\n",
              "    60% {\n",
              "      border-color: transparent;\n",
              "      border-right-color: var(--fill-color);\n",
              "    }\n",
              "    80% {\n",
              "      border-color: transparent;\n",
              "      border-right-color: var(--fill-color);\n",
              "      border-bottom-color: var(--fill-color);\n",
              "    }\n",
              "    90% {\n",
              "      border-color: transparent;\n",
              "      border-bottom-color: var(--fill-color);\n",
              "    }\n",
              "  }\n",
              "</style>\n",
              "\n",
              "  <script>\n",
              "    async function quickchart(key) {\n",
              "      const quickchartButtonEl =\n",
              "        document.querySelector('#' + key + ' button');\n",
              "      quickchartButtonEl.disabled = true;  // To prevent multiple clicks.\n",
              "      quickchartButtonEl.classList.add('colab-df-spinner');\n",
              "      try {\n",
              "        const charts = await google.colab.kernel.invokeFunction(\n",
              "            'suggestCharts', [key], {});\n",
              "      } catch (error) {\n",
              "        console.error('Error during call to suggestCharts:', error);\n",
              "      }\n",
              "      quickchartButtonEl.classList.remove('colab-df-spinner');\n",
              "      quickchartButtonEl.classList.add('colab-df-quickchart-complete');\n",
              "    }\n",
              "    (() => {\n",
              "      let quickchartButtonEl =\n",
              "        document.querySelector('#df-9a6e58d5-c089-4ec9-ad56-66c1f74eddb1 button');\n",
              "      quickchartButtonEl.style.display =\n",
              "        google.colab.kernel.accessAllowed ? 'block' : 'none';\n",
              "    })();\n",
              "  </script>\n",
              "</div>\n",
              "\n",
              "    </div>\n",
              "  </div>\n"
            ],
            "application/vnd.google.colaboratory.intrinsic+json": {
              "type": "dataframe",
              "variable_name": "principalDf",
              "summary": "{\n  \"name\": \"principalDf\",\n  \"rows\": 569,\n  \"fields\": [\n    {\n      \"column\": \"principal component 1\",\n      \"properties\": {\n        \"dtype\": \"number\",\n        \"std\": 3.6476006900940465,\n        \"min\": -5.5657358989815275,\n        \"max\": 16.31923323103223,\n        \"num_unique_values\": 569,\n        \"samples\": [\n          -0.7811899668984522,\n          2.704596172630242,\n          1.4320694267977292\n        ],\n        \"semantic_type\": \"\",\n        \"description\": \"\"\n      }\n    },\n    {\n      \"column\": \"principal component 2\",\n      \"properties\": {\n        \"dtype\": \"number\",\n        \"std\": 2.387755138980152,\n        \"min\": -7.775852804243422,\n        \"max\": 12.573194228808863,\n        \"num_unique_values\": 569,\n        \"samples\": [\n          0.6528492587507911,\n          -4.4371417696179,\n          -1.0496039490961415\n        ],\n        \"semantic_type\": \"\",\n        \"description\": \"\"\n      }\n    }\n  ]\n}"
            }
          },
          "metadata": {},
          "execution_count": 99
        }
      ],
      "source": [
        "\n",
        "pca = PCA(n_components=2)  # İki bileşenli PCA\n",
        "X_pca = pca.fit_transform(X_scaled)\n",
        "\n",
        "principalDf = pd.DataFrame(data = X_pca\n",
        "             , columns = ['principal component 1', 'principal component 2'])\n",
        "\n",
        "principalDf.head(5)"
      ]
    },
    {
      "cell_type": "code",
      "execution_count": null,
      "metadata": {
        "colab": {
          "base_uri": "https://localhost:8080/",
          "height": 206
        },
        "id": "Ikr27IWEruvy",
        "outputId": "3b4db119-d9e3-4536-8edf-89f4466348b5"
      },
      "outputs": [
        {
          "output_type": "execute_result",
          "data": {
            "text/plain": [
              "   principal component 1  principal component 2  target\n",
              "0               9.192837               1.948583       0\n",
              "1               2.387802              -3.768172       0\n",
              "2               5.733896              -1.075174       0\n",
              "3               7.122953              10.275589       0\n",
              "4               3.935302              -1.948072       0"
            ],
            "text/html": [
              "\n",
              "  <div id=\"df-c3f15a78-88d5-4ca6-9a45-54d1927fc43d\" class=\"colab-df-container\">\n",
              "    <div>\n",
              "<style scoped>\n",
              "    .dataframe tbody tr th:only-of-type {\n",
              "        vertical-align: middle;\n",
              "    }\n",
              "\n",
              "    .dataframe tbody tr th {\n",
              "        vertical-align: top;\n",
              "    }\n",
              "\n",
              "    .dataframe thead th {\n",
              "        text-align: right;\n",
              "    }\n",
              "</style>\n",
              "<table border=\"1\" class=\"dataframe\">\n",
              "  <thead>\n",
              "    <tr style=\"text-align: right;\">\n",
              "      <th></th>\n",
              "      <th>principal component 1</th>\n",
              "      <th>principal component 2</th>\n",
              "      <th>target</th>\n",
              "    </tr>\n",
              "  </thead>\n",
              "  <tbody>\n",
              "    <tr>\n",
              "      <th>0</th>\n",
              "      <td>9.192837</td>\n",
              "      <td>1.948583</td>\n",
              "      <td>0</td>\n",
              "    </tr>\n",
              "    <tr>\n",
              "      <th>1</th>\n",
              "      <td>2.387802</td>\n",
              "      <td>-3.768172</td>\n",
              "      <td>0</td>\n",
              "    </tr>\n",
              "    <tr>\n",
              "      <th>2</th>\n",
              "      <td>5.733896</td>\n",
              "      <td>-1.075174</td>\n",
              "      <td>0</td>\n",
              "    </tr>\n",
              "    <tr>\n",
              "      <th>3</th>\n",
              "      <td>7.122953</td>\n",
              "      <td>10.275589</td>\n",
              "      <td>0</td>\n",
              "    </tr>\n",
              "    <tr>\n",
              "      <th>4</th>\n",
              "      <td>3.935302</td>\n",
              "      <td>-1.948072</td>\n",
              "      <td>0</td>\n",
              "    </tr>\n",
              "  </tbody>\n",
              "</table>\n",
              "</div>\n",
              "    <div class=\"colab-df-buttons\">\n",
              "\n",
              "  <div class=\"colab-df-container\">\n",
              "    <button class=\"colab-df-convert\" onclick=\"convertToInteractive('df-c3f15a78-88d5-4ca6-9a45-54d1927fc43d')\"\n",
              "            title=\"Convert this dataframe to an interactive table.\"\n",
              "            style=\"display:none;\">\n",
              "\n",
              "  <svg xmlns=\"http://www.w3.org/2000/svg\" height=\"24px\" viewBox=\"0 -960 960 960\">\n",
              "    <path d=\"M120-120v-720h720v720H120Zm60-500h600v-160H180v160Zm220 220h160v-160H400v160Zm0 220h160v-160H400v160ZM180-400h160v-160H180v160Zm440 0h160v-160H620v160ZM180-180h160v-160H180v160Zm440 0h160v-160H620v160Z\"/>\n",
              "  </svg>\n",
              "    </button>\n",
              "\n",
              "  <style>\n",
              "    .colab-df-container {\n",
              "      display:flex;\n",
              "      gap: 12px;\n",
              "    }\n",
              "\n",
              "    .colab-df-convert {\n",
              "      background-color: #E8F0FE;\n",
              "      border: none;\n",
              "      border-radius: 50%;\n",
              "      cursor: pointer;\n",
              "      display: none;\n",
              "      fill: #1967D2;\n",
              "      height: 32px;\n",
              "      padding: 0 0 0 0;\n",
              "      width: 32px;\n",
              "    }\n",
              "\n",
              "    .colab-df-convert:hover {\n",
              "      background-color: #E2EBFA;\n",
              "      box-shadow: 0px 1px 2px rgba(60, 64, 67, 0.3), 0px 1px 3px 1px rgba(60, 64, 67, 0.15);\n",
              "      fill: #174EA6;\n",
              "    }\n",
              "\n",
              "    .colab-df-buttons div {\n",
              "      margin-bottom: 4px;\n",
              "    }\n",
              "\n",
              "    [theme=dark] .colab-df-convert {\n",
              "      background-color: #3B4455;\n",
              "      fill: #D2E3FC;\n",
              "    }\n",
              "\n",
              "    [theme=dark] .colab-df-convert:hover {\n",
              "      background-color: #434B5C;\n",
              "      box-shadow: 0px 1px 3px 1px rgba(0, 0, 0, 0.15);\n",
              "      filter: drop-shadow(0px 1px 2px rgba(0, 0, 0, 0.3));\n",
              "      fill: #FFFFFF;\n",
              "    }\n",
              "  </style>\n",
              "\n",
              "    <script>\n",
              "      const buttonEl =\n",
              "        document.querySelector('#df-c3f15a78-88d5-4ca6-9a45-54d1927fc43d button.colab-df-convert');\n",
              "      buttonEl.style.display =\n",
              "        google.colab.kernel.accessAllowed ? 'block' : 'none';\n",
              "\n",
              "      async function convertToInteractive(key) {\n",
              "        const element = document.querySelector('#df-c3f15a78-88d5-4ca6-9a45-54d1927fc43d');\n",
              "        const dataTable =\n",
              "          await google.colab.kernel.invokeFunction('convertToInteractive',\n",
              "                                                    [key], {});\n",
              "        if (!dataTable) return;\n",
              "\n",
              "        const docLinkHtml = 'Like what you see? Visit the ' +\n",
              "          '<a target=\"_blank\" href=https://colab.research.google.com/notebooks/data_table.ipynb>data table notebook</a>'\n",
              "          + ' to learn more about interactive tables.';\n",
              "        element.innerHTML = '';\n",
              "        dataTable['output_type'] = 'display_data';\n",
              "        await google.colab.output.renderOutput(dataTable, element);\n",
              "        const docLink = document.createElement('div');\n",
              "        docLink.innerHTML = docLinkHtml;\n",
              "        element.appendChild(docLink);\n",
              "      }\n",
              "    </script>\n",
              "  </div>\n",
              "\n",
              "\n",
              "<div id=\"df-298406f3-8da9-420c-a7cd-8d706aa2a604\">\n",
              "  <button class=\"colab-df-quickchart\" onclick=\"quickchart('df-298406f3-8da9-420c-a7cd-8d706aa2a604')\"\n",
              "            title=\"Suggest charts\"\n",
              "            style=\"display:none;\">\n",
              "\n",
              "<svg xmlns=\"http://www.w3.org/2000/svg\" height=\"24px\"viewBox=\"0 0 24 24\"\n",
              "     width=\"24px\">\n",
              "    <g>\n",
              "        <path d=\"M19 3H5c-1.1 0-2 .9-2 2v14c0 1.1.9 2 2 2h14c1.1 0 2-.9 2-2V5c0-1.1-.9-2-2-2zM9 17H7v-7h2v7zm4 0h-2V7h2v10zm4 0h-2v-4h2v4z\"/>\n",
              "    </g>\n",
              "</svg>\n",
              "  </button>\n",
              "\n",
              "<style>\n",
              "  .colab-df-quickchart {\n",
              "      --bg-color: #E8F0FE;\n",
              "      --fill-color: #1967D2;\n",
              "      --hover-bg-color: #E2EBFA;\n",
              "      --hover-fill-color: #174EA6;\n",
              "      --disabled-fill-color: #AAA;\n",
              "      --disabled-bg-color: #DDD;\n",
              "  }\n",
              "\n",
              "  [theme=dark] .colab-df-quickchart {\n",
              "      --bg-color: #3B4455;\n",
              "      --fill-color: #D2E3FC;\n",
              "      --hover-bg-color: #434B5C;\n",
              "      --hover-fill-color: #FFFFFF;\n",
              "      --disabled-bg-color: #3B4455;\n",
              "      --disabled-fill-color: #666;\n",
              "  }\n",
              "\n",
              "  .colab-df-quickchart {\n",
              "    background-color: var(--bg-color);\n",
              "    border: none;\n",
              "    border-radius: 50%;\n",
              "    cursor: pointer;\n",
              "    display: none;\n",
              "    fill: var(--fill-color);\n",
              "    height: 32px;\n",
              "    padding: 0;\n",
              "    width: 32px;\n",
              "  }\n",
              "\n",
              "  .colab-df-quickchart:hover {\n",
              "    background-color: var(--hover-bg-color);\n",
              "    box-shadow: 0 1px 2px rgba(60, 64, 67, 0.3), 0 1px 3px 1px rgba(60, 64, 67, 0.15);\n",
              "    fill: var(--button-hover-fill-color);\n",
              "  }\n",
              "\n",
              "  .colab-df-quickchart-complete:disabled,\n",
              "  .colab-df-quickchart-complete:disabled:hover {\n",
              "    background-color: var(--disabled-bg-color);\n",
              "    fill: var(--disabled-fill-color);\n",
              "    box-shadow: none;\n",
              "  }\n",
              "\n",
              "  .colab-df-spinner {\n",
              "    border: 2px solid var(--fill-color);\n",
              "    border-color: transparent;\n",
              "    border-bottom-color: var(--fill-color);\n",
              "    animation:\n",
              "      spin 1s steps(1) infinite;\n",
              "  }\n",
              "\n",
              "  @keyframes spin {\n",
              "    0% {\n",
              "      border-color: transparent;\n",
              "      border-bottom-color: var(--fill-color);\n",
              "      border-left-color: var(--fill-color);\n",
              "    }\n",
              "    20% {\n",
              "      border-color: transparent;\n",
              "      border-left-color: var(--fill-color);\n",
              "      border-top-color: var(--fill-color);\n",
              "    }\n",
              "    30% {\n",
              "      border-color: transparent;\n",
              "      border-left-color: var(--fill-color);\n",
              "      border-top-color: var(--fill-color);\n",
              "      border-right-color: var(--fill-color);\n",
              "    }\n",
              "    40% {\n",
              "      border-color: transparent;\n",
              "      border-right-color: var(--fill-color);\n",
              "      border-top-color: var(--fill-color);\n",
              "    }\n",
              "    60% {\n",
              "      border-color: transparent;\n",
              "      border-right-color: var(--fill-color);\n",
              "    }\n",
              "    80% {\n",
              "      border-color: transparent;\n",
              "      border-right-color: var(--fill-color);\n",
              "      border-bottom-color: var(--fill-color);\n",
              "    }\n",
              "    90% {\n",
              "      border-color: transparent;\n",
              "      border-bottom-color: var(--fill-color);\n",
              "    }\n",
              "  }\n",
              "</style>\n",
              "\n",
              "  <script>\n",
              "    async function quickchart(key) {\n",
              "      const quickchartButtonEl =\n",
              "        document.querySelector('#' + key + ' button');\n",
              "      quickchartButtonEl.disabled = true;  // To prevent multiple clicks.\n",
              "      quickchartButtonEl.classList.add('colab-df-spinner');\n",
              "      try {\n",
              "        const charts = await google.colab.kernel.invokeFunction(\n",
              "            'suggestCharts', [key], {});\n",
              "      } catch (error) {\n",
              "        console.error('Error during call to suggestCharts:', error);\n",
              "      }\n",
              "      quickchartButtonEl.classList.remove('colab-df-spinner');\n",
              "      quickchartButtonEl.classList.add('colab-df-quickchart-complete');\n",
              "    }\n",
              "    (() => {\n",
              "      let quickchartButtonEl =\n",
              "        document.querySelector('#df-298406f3-8da9-420c-a7cd-8d706aa2a604 button');\n",
              "      quickchartButtonEl.style.display =\n",
              "        google.colab.kernel.accessAllowed ? 'block' : 'none';\n",
              "    })();\n",
              "  </script>\n",
              "</div>\n",
              "\n",
              "    </div>\n",
              "  </div>\n"
            ],
            "application/vnd.google.colaboratory.intrinsic+json": {
              "type": "dataframe",
              "variable_name": "finalDf",
              "summary": "{\n  \"name\": \"finalDf\",\n  \"rows\": 569,\n  \"fields\": [\n    {\n      \"column\": \"principal component 1\",\n      \"properties\": {\n        \"dtype\": \"number\",\n        \"std\": 3.6476006900940465,\n        \"min\": -5.5657358989815275,\n        \"max\": 16.31923323103223,\n        \"num_unique_values\": 569,\n        \"samples\": [\n          -0.7811899668984522,\n          2.704596172630242,\n          1.4320694267977292\n        ],\n        \"semantic_type\": \"\",\n        \"description\": \"\"\n      }\n    },\n    {\n      \"column\": \"principal component 2\",\n      \"properties\": {\n        \"dtype\": \"number\",\n        \"std\": 2.387755138980152,\n        \"min\": -7.775852804243422,\n        \"max\": 12.573194228808863,\n        \"num_unique_values\": 569,\n        \"samples\": [\n          0.6528492587507911,\n          -4.4371417696179,\n          -1.0496039490961415\n        ],\n        \"semantic_type\": \"\",\n        \"description\": \"\"\n      }\n    },\n    {\n      \"column\": \"target\",\n      \"properties\": {\n        \"dtype\": \"number\",\n        \"std\": 0,\n        \"min\": 0,\n        \"max\": 1,\n        \"num_unique_values\": 2,\n        \"samples\": [\n          1,\n          0\n        ],\n        \"semantic_type\": \"\",\n        \"description\": \"\"\n      }\n    }\n  ]\n}"
            }
          },
          "metadata": {},
          "execution_count": 100
        }
      ],
      "source": [
        "\n",
        "finalDf = pd.concat([principalDf, df[['target']]], axis = 1)\n",
        "finalDf.head(5)"
      ]
    },
    {
      "cell_type": "code",
      "execution_count": null,
      "metadata": {
        "colab": {
          "base_uri": "https://localhost:8080/",
          "height": 641
        },
        "id": "7TV_KLuWoMqU",
        "outputId": "fb364bda-910b-4c41-889e-2725792f8425"
      },
      "outputs": [
        {
          "output_type": "display_data",
          "data": {
            "text/plain": [
              "<Figure size 1000x700 with 1 Axes>"
            ],
            "image/png": "[encoded data removed]"
          },
          "metadata": {}
        }
      ],
      "source": [
        "\n",
        "plt.figure(figsize=(10, 7))\n",
        "\n",
        "for target in np.unique(y):\n",
        "    plt.scatter(X_pca[y == target, 0], X_pca[y == target, 1],\n",
        "                label=target_names[target], alpha=0.7, edgecolors='w')\n",
        "\n",
        "plt.xlabel('First Principal Component')\n",
        "plt.ylabel('Second Principal Component')\n",
        "plt.title('PCA of Breast Cancer Dataset')\n",
        "plt.legend()\n",
        "plt.grid(True)\n",
        "plt.show()\n",
        "# 2 az gelebilir, karmaşık gözükürse component sayısını artırabiliriz."
      ]
    },
    {
      "cell_type": "code",
      "execution_count": null,
      "metadata": {
        "colab": {
          "base_uri": "https://localhost:8080/"
        },
        "id": "MVzozrJrocBD",
        "outputId": "9364fe8d-e475-4683-c6b6-4dbb65d641f4"
      },
      "outputs": [
        {
          "output_type": "stream",
          "name": "stdout",
          "text": [
            "[0.44272026 0.18971182]\n",
            "Toplam açıklanan varyans: 0.6324320765155944\n"
          ]
        }
      ],
      "source": [
        "# Varyans oranları\n",
        "explained_variance_ratio = pca.explained_variance_ratio_\n",
        "print(explained_variance_ratio)\n",
        "print(\"Toplam açıklanan varyans:\", np.sum(explained_variance_ratio)) # TOPLAM VARYANS ÖNEMLİDİR. İKİ PCA TOPLAMI %63 ETTİĞİ İÇİN TOPLAM BİLGİNİN %63'Ü ELDE TUTULUR,YANİ BİLGİNİN %37'Sİ KAYBOLMUŞTUR ÇÜNKÜ 30 BOYUTTAN 2 BOYUTA İNDİRGEME YAPTIK.\n",
        "# Component sayısı artırıldığında bilgi kaybı az olur."
      ]
    },
    {
      "cell_type": "code",
      "execution_count": null,
      "metadata": {
        "colab": {
          "base_uri": "https://localhost:8080/"
        },
        "id": "F0s3D1RDoiIM",
        "outputId": "da1f53c4-44ee-481b-98b9-322b355c735e"
      },
      "outputs": [
        {
          "output_type": "stream",
          "name": "stdout",
          "text": [
            "     mean radius  mean texture  mean perimeter  mean area  mean smoothness  \\\n",
            "PC1     0.218902      0.103725        0.227537   0.220995         0.142590   \n",
            "PC2    -0.233857     -0.059706       -0.215181  -0.231077         0.186113   \n",
            "\n",
            "     mean compactness  mean concavity  mean concave points  mean symmetry  \\\n",
            "PC1          0.239285        0.258400             0.260854       0.138167   \n",
            "PC2          0.151892        0.060165            -0.034768       0.190349   \n",
            "\n",
            "     mean fractal dimension  ...  worst radius  worst texture  \\\n",
            "PC1                0.064363  ...      0.227997       0.104469   \n",
            "PC2                0.366575  ...     -0.219866      -0.045467   \n",
            "\n",
            "     worst perimeter  worst area  worst smoothness  worst compactness  \\\n",
            "PC1         0.236640    0.224871          0.127953           0.210096   \n",
            "PC2        -0.199878   -0.219352          0.172304           0.143593   \n",
            "\n",
            "     worst concavity  worst concave points  worst symmetry  \\\n",
            "PC1         0.228768              0.250886        0.122905   \n",
            "PC2         0.097964             -0.008257        0.141883   \n",
            "\n",
            "     worst fractal dimension  \n",
            "PC1                 0.131784  \n",
            "PC2                 0.275339  \n",
            "\n",
            "[2 rows x 30 columns]\n"
          ]
        }
      ],
      "source": [
        "# PCA bileşenlerinin özelliklerle ilişkisi\n",
        "components_df = pd.DataFrame(pca.components_, columns=feature_names, index=['PC1', 'PC2'])\n",
        "print(components_df)"
      ]
    },
    {
      "cell_type": "code",
      "execution_count": null,
      "metadata": {
        "id": "chxgSP4C16e9"
      },
      "outputs": [],
      "source": [
        "# Bir diğer pca uygulama yolu ise logistic regression uygulamaktır."
      ]
    },
    {
      "cell_type": "code",
      "source": [
        "from sklearn.datasets import fetch_openml\n",
        "mnist = fetch_openml('mnist_784')"
      ],
      "metadata": {
        "colab": {
          "base_uri": "https://localhost:8080/"
        },
        "id": "daAs4ImXKtSm",
        "outputId": "cc2adae7-ab7a-4488-b064-35f495006961"
      },
      "execution_count": null,
      "outputs": [
        {
          "output_type": "stream",
          "name": "stderr",
          "text": [
            "/usr/local/lib/python3.10/dist-packages/sklearn/datasets/_openml.py:1022: FutureWarning: The default value of `parser` will change from `'liac-arff'` to `'auto'` in 1.4. You can set `parser='auto'` to silence this warning. Therefore, an `ImportError` will be raised from 1.4 if the dataset is dense and pandas is not installed. Note that the pandas parser may return different data types. See the Notes Section in fetch_openml's API doc for details.\n",
            "  warn(\n"
          ]
        }
      ]
    },
    {
      "cell_type": "code",
      "source": [
        "from sklearn.model_selection import train_test_split\n",
        "\n",
        "train_img, test_img, train_lbl, test_lbl = train_test_split( mnist.data, mnist.target, test_size=1/7.0, random_state=0)"
      ],
      "metadata": {
        "id": "kpmXzUz6Ku4b"
      },
      "execution_count": null,
      "outputs": []
    },
    {
      "cell_type": "code",
      "source": [
        "from sklearn.preprocessing import StandardScaler\n",
        "scaler = StandardScaler()\n",
        "\n",
        "# Fit on training set only.\n",
        "scaler.fit(train_img)\n",
        "\n",
        "# Apply transform to both the training set and the test set.\n",
        "train_img = scaler.transform(train_img)\n",
        "test_img = scaler.transform(test_img)"
      ],
      "metadata": {
        "id": "swTWmYHJLEWb"
      },
      "execution_count": null,
      "outputs": []
    },
    {
      "cell_type": "code",
      "source": [
        "from sklearn.decomposition import PCA\n",
        "\n",
        "pca = PCA(.95) # Bu, scikit-learn'ün varyansın %95'inin korunduğu minimum sayıda temel bileşeni seçtiği anlamına gelir.Bilgilerin %95'i duruyor.\n",
        "# bu oran doğru orantı vermez en yüksek doğruluk oranını deneyerek buluruz."
      ],
      "metadata": {
        "id": "hX7U5GVHLMlK"
      },
      "execution_count": null,
      "outputs": []
    },
    {
      "cell_type": "code",
      "source": [
        "pca.fit(train_img)\n"
      ],
      "metadata": {
        "colab": {
          "base_uri": "https://localhost:8080/",
          "height": 75
        },
        "id": "j2IJlf8eLVKZ",
        "outputId": "b3013ba6-8c41-40a0-d14a-a771feccdbbd"
      },
      "execution_count": null,
      "outputs": [
        {
          "output_type": "execute_result",
          "data": {
            "text/plain": [
              "PCA(n_components=0.95)"
            ],
            "text/html": [
              "<style>#sk-container-id-2 {color: black;}#sk-container-id-2 pre{padding: 0;}#sk-container-id-2 div.sk-toggleable {background-color: white;}#sk-container-id-2 label.sk-toggleable__label {cursor: pointer;display: block;width: 100%;margin-bottom: 0;padding: 0.3em;box-sizing: border-box;text-align: center;}#sk-container-id-2 label.sk-toggleable__label-arrow:before {content: \"▸\";float: left;margin-right: 0.25em;color: #696969;}#sk-container-id-2 label.sk-toggleable__label-arrow:hover:before {color: black;}#sk-container-id-2 div.sk-estimator:hover label.sk-toggleable__label-arrow:before {color: black;}#sk-container-id-2 div.sk-toggleable__content {max-height: 0;max-width: 0;overflow: hidden;text-align: left;background-color: #f0f8ff;}#sk-container-id-2 div.sk-toggleable__content pre {margin: 0.2em;color: black;border-radius: 0.25em;background-color: #f0f8ff;}#sk-container-id-2 input.sk-toggleable__control:checked~div.sk-toggleable__content {max-height: 200px;max-width: 100%;overflow: auto;}#sk-container-id-2 input.sk-toggleable__control:checked~label.sk-toggleable__label-arrow:before {content: \"▾\";}#sk-container-id-2 div.sk-estimator input.sk-toggleable__control:checked~label.sk-toggleable__label {background-color: #d4ebff;}#sk-container-id-2 div.sk-label input.sk-toggleable__control:checked~label.sk-toggleable__label {background-color: #d4ebff;}#sk-container-id-2 input.sk-hidden--visually {border: 0;clip: rect(1px 1px 1px 1px);clip: rect(1px, 1px, 1px, 1px);height: 1px;margin: -1px;overflow: hidden;padding: 0;position: absolute;width: 1px;}#sk-container-id-2 div.sk-estimator {font-family: monospace;background-color: #f0f8ff;border: 1px dotted black;border-radius: 0.25em;box-sizing: border-box;margin-bottom: 0.5em;}#sk-container-id-2 div.sk-estimator:hover {background-color: #d4ebff;}#sk-container-id-2 div.sk-parallel-item::after {content: \"\";width: 100%;border-bottom: 1px solid gray;flex-grow: 1;}#sk-container-id-2 div.sk-label:hover label.sk-toggleable__label {background-color: #d4ebff;}#sk-container-id-2 div.sk-serial::before {content: \"\";position: absolute;border-left: 1px solid gray;box-sizing: border-box;top: 0;bottom: 0;left: 50%;z-index: 0;}#sk-container-id-2 div.sk-serial {display: flex;flex-direction: column;align-items: center;background-color: white;padding-right: 0.2em;padding-left: 0.2em;position: relative;}#sk-container-id-2 div.sk-item {position: relative;z-index: 1;}#sk-container-id-2 div.sk-parallel {display: flex;align-items: stretch;justify-content: center;background-color: white;position: relative;}#sk-container-id-2 div.sk-item::before, #sk-container-id-2 div.sk-parallel-item::before {content: \"\";position: absolute;border-left: 1px solid gray;box-sizing: border-box;top: 0;bottom: 0;left: 50%;z-index: -1;}#sk-container-id-2 div.sk-parallel-item {display: flex;flex-direction: column;z-index: 1;position: relative;background-color: white;}#sk-container-id-2 div.sk-parallel-item:first-child::after {align-self: flex-end;width: 50%;}#sk-container-id-2 div.sk-parallel-item:last-child::after {align-self: flex-start;width: 50%;}#sk-container-id-2 div.sk-parallel-item:only-child::after {width: 0;}#sk-container-id-2 div.sk-dashed-wrapped {border: 1px dashed gray;margin: 0 0.4em 0.5em 0.4em;box-sizing: border-box;padding-bottom: 0.4em;background-color: white;}#sk-container-id-2 div.sk-label label {font-family: monospace;font-weight: bold;display: inline-block;line-height: 1.2em;}#sk-container-id-2 div.sk-label-container {text-align: center;}#sk-container-id-2 div.sk-container {/* jupyter's `normalize.less` sets `[hidden] { display: none; }` but bootstrap.min.css set `[hidden] { display: none !important; }` so we also need the `!important` here to be able to override the default hidden behavior on the sphinx rendered scikit-learn.org. See: https://github.com/scikit-learn/scikit-learn/issues/21755 */display: inline-block !important;position: relative;}#sk-container-id-2 div.sk-text-repr-fallback {display: none;}</style><div id=\"sk-container-id-2\" class=\"sk-top-container\"><div class=\"sk-text-repr-fallback\"><pre>PCA(n_components=0.95)</pre><b>In a Jupyter environment, please rerun this cell to show the HTML representation or trust the notebook. <br />On GitHub, the HTML representation is unable to render, please try loading this page with nbviewer.org.</b></div><div class=\"sk-container\" hidden><div class=\"sk-item\"><div class=\"sk-estimator sk-toggleable\"><input class=\"sk-toggleable__control sk-hidden--visually\" id=\"sk-estimator-id-2\" type=\"checkbox\" checked><label for=\"sk-estimator-id-2\" class=\"sk-toggleable__label sk-toggleable__label-arrow\">PCA</label><div class=\"sk-toggleable__content\"><pre>PCA(n_components=0.95)</pre></div></div></div></div></div>"
            ]
          },
          "metadata": {},
          "execution_count": 108
        }
      ]
    },
    {
      "cell_type": "code",
      "source": [
        "train_img = pca.transform(train_img)\n",
        "test_img = pca.transform(test_img)"
      ],
      "metadata": {
        "id": "ATaluIq3Lg6N"
      },
      "execution_count": null,
      "outputs": []
    },
    {
      "cell_type": "code",
      "source": [
        "from sklearn.linear_model import LogisticRegression\n",
        "# all parameters not specified are set to their defaults\n",
        "# default solver is incredibly slow which is why it was changed to 'lbfgs'\n",
        "logisticRegr = LogisticRegression(solver = 'lbfgs')"
      ],
      "metadata": {
        "id": "ljSIG4FDLjyg"
      },
      "execution_count": null,
      "outputs": []
    },
    {
      "cell_type": "code",
      "source": [
        "logisticRegr.fit(train_img, train_lbl)\n",
        "\n",
        "# Predict for One Observation (image)\n",
        "logisticRegr.predict(test_img[0].reshape(1,-1))"
      ],
      "metadata": {
        "colab": {
          "base_uri": "https://localhost:8080/"
        },
        "id": "sZj7UzsyLuBg",
        "outputId": "caf38d69-6bb4-402b-a5ee-8be32e5b7f5d"
      },
      "execution_count": null,
      "outputs": [
        {
          "output_type": "stream",
          "name": "stderr",
          "text": [
            "/usr/local/lib/python3.10/dist-packages/sklearn/linear_model/_logistic.py:460: ConvergenceWarning: lbfgs failed to converge (status=1):\n",
            "STOP: TOTAL NO. of ITERATIONS REACHED LIMIT.\n",
            "\n",
            "Increase the number of iterations (max_iter) or scale the data as shown in:\n",
            "    https://scikit-learn.org/stable/modules/preprocessing.html\n",
            "Please also refer to the documentation for alternative solver options:\n",
            "    https://scikit-learn.org/stable/modules/linear_model.html#logistic-regression\n",
            "  n_iter_i = _check_optimize_result(\n"
          ]
        },
        {
          "output_type": "execute_result",
          "data": {
            "text/plain": [
              "array(['0'], dtype=object)"
            ]
          },
          "metadata": {},
          "execution_count": 111
        }
      ]
    },
    {
      "cell_type": "code",
      "source": [
        "# Predict for Ten Observation (image)\n",
        "logisticRegr.predict(test_img[0:10])"
      ],
      "metadata": {
        "colab": {
          "base_uri": "https://localhost:8080/"
        },
        "id": "knaPPLOLL0hd",
        "outputId": "5a4f4926-596f-4135-d3ca-19112c0b7df5"
      },
      "execution_count": null,
      "outputs": [
        {
          "output_type": "execute_result",
          "data": {
            "text/plain": [
              "array(['0', '4', '1', '2', '4', '7', '7', '1', '1', '7'], dtype=object)"
            ]
          },
          "metadata": {},
          "execution_count": 112
        }
      ]
    },
    {
      "cell_type": "code",
      "source": [
        "logisticRegr.score(test_img, test_lbl)\n"
      ],
      "metadata": {
        "colab": {
          "base_uri": "https://localhost:8080/"
        },
        "id": "11dN9pssL9O_",
        "outputId": "910beaea-927f-436e-c755-0c6358664ea2"
      },
      "execution_count": null,
      "outputs": [
        {
          "output_type": "execute_result",
          "data": {
            "text/plain": [
              "0.9201"
            ]
          },
          "metadata": {},
          "execution_count": 113
        }
      ]
    },
    {
      "cell_type": "code",
      "execution_count": null,
      "metadata": {
        "id": "tTBGV08G2I0N"
      },
      "outputs": [],
      "source": [
        "# DATA SPLITING\n",
        "\n",
        "# Makine öğrenmesinde veri bölme (data splitting), veri setini eğitim (training) ve test (test) kümelerine ayırma sürecidir. Bu işlem, modelin performansını değerlendirmek ve aşırı uyumu (overfitting) önlemek için kritik öneme sahiptir.\n",
        "# Overfitting, eğitim verilerinde çok iyi performans gösteren ancak görülmemiş veya yeni verilerde kötü performans gösteren bir modelle sonuçlanır.\n",
        "\n",
        "# Neden Veri Bölme Gereklidir?\n",
        "# Modelin Genelleme Yeteneğini Test Etmek: Modelin eğitim verisi dışındaki yeni veriler üzerinde nasıl performans gösterdiğini anlamak için test veri seti kullanılır.\n",
        "# Aşırı Uyumu Önlemek: Eğitim veri seti üzerinde yüksek performans gösteren bir model, test veri setinde zayıf performans gösterebilir. Bu, modelin eğitim verisine fazla uyum sağladığını (aşırı uyum) gösterir.\n",
        "# Model Seçimi ve Parametre Ayarlama: Modelin hiperparametrelerini ayarlamak için genellikle doğrulama (validation) veri seti kullanılır.\n",
        "\n",
        "# Veri Bölme Stratejileri\n",
        "\n",
        "# Eğitim ve Test Ayrımı: Veriyi basitçe iki kümeye ayırır: eğitim ve test. Bu, en yaygın ve temel veri bölme yöntemidir.\n",
        "# K-Fold Çapraz Doğrulama (Cross-Validation): Veriyi K parçaya böler ve her bir parçayı test seti olarak kullanarak modelin performansını değerlendirir. Bu, modelin genelleme yeteneğini daha güvenilir şekilde ölçmek için kullanılır.\n",
        "# Eğitim, Doğrulama ve Test Ayrımı: Veriyi üç kümeye böler: eğitim, doğrulama (validation) ve test. Doğrulama seti, modelin hiperparametrelerini ayarlamak için kullanılır, test seti ise modelin nihai değerlendirmesi için ayrılır."
      ]
    },
    {
      "cell_type": "code",
      "execution_count": null,
      "metadata": {
        "id": "wc8EnEm73iIt"
      },
      "outputs": [],
      "source": [
        "import numpy as np\n",
        "import pandas as pd\n",
        "from sklearn.datasets import load_breast_cancer\n",
        "from sklearn.model_selection import train_test_split"
      ]
    },
    {
      "cell_type": "code",
      "execution_count": null,
      "metadata": {
        "id": "fklodEEA3kgv"
      },
      "outputs": [],
      "source": [
        "# Rastgele Bölme\n",
        "\n",
        "# Rastgele bölme, veri setini eğitim, doğrulama ve test kümelerine rastgele bölen yaygın olarak kullanılan bir yöntemdir.\n",
        "\n",
        "# Eğitim Seti: Makine öğrenimi modelini eğitmek için kullanılır, modelin verilerdeki kalıpları ve ilişkileri anlamayı öğrendiği temel veri kümesidir.\n",
        "\n",
        "# Doğrulama Seti: Modelin ince ayarını yapmaya yardımcı olur. Eğitim aşamasında modelin performansını değerlendirir, hiper parametreleri ayarlamaya ve aşırı uyumu önlemeye yardımcı olur.\n",
        "\n",
        "# Test Seti: Modelin görünmeyen veriler üzerindeki performansının adil bir değerlendirmesini sağlar. Bu, modelin bilinmeyen verilere genelleme yapma yeteneğini değerlendirmek için çok önemlidir."
      ]
    },
    {
      "cell_type": "code",
      "execution_count": null,
      "metadata": {
        "id": "3jgAeV2x4mTe"
      },
      "outputs": [],
      "source": [
        "cancer_data = load_breast_cancer()\n",
        "X = cancer_data.data\n",
        "y = cancer_data.target"
      ]
    },
    {
      "cell_type": "code",
      "execution_count": null,
      "metadata": {
        "colab": {
          "base_uri": "https://localhost:8080/"
        },
        "id": "VIEawTId4p1V",
        "outputId": "79f4383b-a466-4564-ff3d-b0504033d4ff"
      },
      "outputs": [
        {
          "output_type": "stream",
          "name": "stdout",
          "text": [
            "Eğitim Seti Boyutu: (199, 30)\n",
            "Test Seti Boyutu: (171, 30)\n",
            "Doğrulama Seti Boyutu: (199, 30)\n"
          ]
        }
      ],
      "source": [
        "X_train_full, X_test, y_train_full, y_test = train_test_split(X, y, test_size=0.3, random_state=42) # eğitim ve test seti\n",
        "X_train, X_val, y_train, y_val = train_test_split(X_train_full, y_train_full, test_size=0.5, random_state=42) # eğitim ve doğrulama seti\n",
        "# Normalde bu datada 569 sample var, biz bunu bölüyoruz.569'un %30'unu teste tabi tutuyoruz,geri kalan eğitim seti oluyor.\n",
        "print(\"Eğitim Seti Boyutu:\", X_train.shape)\n",
        "print(\"Test Seti Boyutu:\", X_test.shape)\n",
        "print(\"Doğrulama Seti Boyutu:\", X_val.shape)\n",
        "\n",
        "# Oluşturulan veri kümeleri, makine öğrenimi modellerinin eğitimi, doğrulanması ve değerlendirilmesi için kullanılabilir ve böylece etkili ve güvenilir modellerin geliştirilmesi kolaylaştırılabilir."
      ]
    },
    {
      "cell_type": "code",
      "execution_count": null,
      "metadata": {
        "colab": {
          "base_uri": "https://localhost:8080/"
        },
        "id": "J4h0GW5a7Pc_",
        "outputId": "f1b82098-d589-447c-c5f1-cc287bd7d294"
      },
      "outputs": [
        {
          "output_type": "stream",
          "name": "stdout",
          "text": [
            "Test Seti Üzerindeki Doğruluk: 0.9707602339181286\n"
          ]
        }
      ],
      "source": [
        "from sklearn.linear_model import LogisticRegression\n",
        "from sklearn.metrics import accuracy_score\n",
        "\n",
        "# Modeli oluşturma\n",
        "model = LogisticRegression(max_iter=10000, random_state=42) # Lojistik regresyon modelinin maksimum iterasyon sayısını belirler. Model, maksimum bu kadar iterasyon boyunca eğitilecektir. Bu, modelin öğrenme sürecinde daha fazla iterasyon yapılmasını sağlar ve genellikle modelin konverjansını sağlamaya yardımcı olabilir.\n",
        "model.fit(X_train, y_train) #X_train: Özelliklerin eğitim veri seti, y_train: Eğitim veri setindeki hedef etiketler.\n",
        "\n",
        "# Test seti üzerindeki tahminler\n",
        "y_pred = model.predict(X_test)\n",
        "\n",
        "# Performans\n",
        "accuracy = accuracy_score(y_test, y_pred)\n",
        "print(\"Test Seti Üzerindeki Doğruluk:\", accuracy)"
      ]
    },
    {
      "cell_type": "code",
      "execution_count": null,
      "metadata": {
        "id": "j9z1nSf18RND"
      },
      "outputs": [],
      "source": [
        "# Katmanlı Bölme\n",
        "\n",
        "# Dengesiz veri kümeleriyle uğraşırken, tabakalı bölme, eğitim, doğrulama ve test kümeleri arasında sınıf dağılımında tutarlılığı garanti eder.\n",
        "# Katmanlı bölme (stratified splitting), veri setini sınıfların orantısına göre böler, böylece her alt kümede sınıfların orantıları orijinal veri setine benzer olur.\n",
        "# dengesiz veriler, dolandırıcılık tespiti, tıbbi teşhis ve anormallik tespiti dahil olmak üzere çeşitli alanlarda yaygındır.\n",
        "# Eğitim, doğrulama ve test kümeleri arasında tutarlı bir sınıf dağılımını sürdürmek için katmanlı bölmenin uygulanması çok önemlidir."
      ]
    },
    {
      "cell_type": "code",
      "execution_count": null,
      "metadata": {
        "colab": {
          "base_uri": "https://localhost:8080/"
        },
        "id": "OVrO4TpL8kAP",
        "outputId": "e8cf00ee-d522-43ae-8c32-f34d14513ef7"
      },
      "outputs": [
        {
          "output_type": "stream",
          "name": "stdout",
          "text": [
            "Eğitim Seti Sınıf Dağılımı:\n",
            " 1    0.628141\n",
            "0    0.371859\n",
            "Name: proportion, dtype: float64\n",
            "\n",
            "Test Seti Sınıf Dağılımı:\n",
            " 1    0.625731\n",
            "0    0.374269\n",
            "Name: proportion, dtype: float64\n"
          ]
        }
      ],
      "source": [
        "# Veriyi eğitim ve test setlerine ayırma (katmanlı bölme)\n",
        "X_train, X_test, y_train, y_test = train_test_split(X, y, test_size=0.3, stratify=y, random_state=42)\n",
        "\n",
        "# Eğitim ve test setlerinin sınıf dağılımları\n",
        "train_class_distribution = pd.Series(y_train).value_counts(normalize=True)\n",
        "test_class_distribution = pd.Series(y_test).value_counts(normalize=True)\n",
        "\n",
        "# Sınıf Dağılımını Kontrol Etme: Eğitim ve test setlerinde her sınıfın orantısının orijinal veri setine benzer olduğunu doğrulamak için kullanılır.\n",
        "\n",
        "print(\"Eğitim Seti Sınıf Dağılımı:\\n\", train_class_distribution)\n",
        "print(\"\\nTest Seti Sınıf Dağılımı:\\n\", test_class_distribution)"
      ]
    },
    {
      "cell_type": "code",
      "execution_count": null,
      "metadata": {
        "colab": {
          "base_uri": "https://localhost:8080/",
          "height": 443
        },
        "id": "A1mahzPd-blN",
        "outputId": "4d8a5dc5-50c5-49fe-bd79-3c6a11725931"
      },
      "outputs": [
        {
          "output_type": "stream",
          "name": "stdout",
          "text": [
            "Original Class Distribution:\n",
            "Class 0: 90, Class 1: 10\n",
            "\n",
            "Training Set Class Distribution:\n",
            "Class 0: 63, Class 1: 7\n",
            "\n",
            "Validation Set Class Distribution:\n",
            "Class 0: 13, Class 1: 2\n",
            "\n",
            "Test Set Class Distribution:\n",
            "Class 0: 14, Class 1: 1\n",
            "\n"
          ]
        },
        {
          "output_type": "error",
          "ename": "AttributeError",
          "evalue": "'numpy.ndarray' object has no attribute 'iloc'",
          "traceback": [
            "\u001b[0;31m---------------------------------------------------------------------------\u001b[0m",
            "\u001b[0;31mAttributeError\u001b[0m                            Traceback (most recent call last)",
            "\u001b[0;32m<ipython-input-9-df70fe52d852>\u001b[0m in \u001b[0;36m<cell line: 31>\u001b[0;34m()\u001b[0m\n\u001b[1;32m     30\u001b[0m \u001b[0;31m# Perform stratified splitting\u001b[0m\u001b[0;34m\u001b[0m\u001b[0;34m\u001b[0m\u001b[0m\n\u001b[1;32m     31\u001b[0m \u001b[0;32mfor\u001b[0m \u001b[0mtrain_index\u001b[0m\u001b[0;34m,\u001b[0m \u001b[0mtest_index\u001b[0m \u001b[0;32min\u001b[0m \u001b[0mstratified_splitter\u001b[0m\u001b[0;34m.\u001b[0m\u001b[0msplit\u001b[0m\u001b[0;34m(\u001b[0m\u001b[0mX\u001b[0m\u001b[0;34m,\u001b[0m \u001b[0my\u001b[0m\u001b[0;34m)\u001b[0m\u001b[0;34m:\u001b[0m\u001b[0;34m\u001b[0m\u001b[0;34m\u001b[0m\u001b[0m\n\u001b[0;32m---> 32\u001b[0;31m     \u001b[0mX_train\u001b[0m\u001b[0;34m,\u001b[0m \u001b[0mX_test\u001b[0m \u001b[0;34m=\u001b[0m \u001b[0mX\u001b[0m\u001b[0;34m.\u001b[0m\u001b[0miloc\u001b[0m\u001b[0;34m[\u001b[0m\u001b[0mtrain_index\u001b[0m\u001b[0;34m]\u001b[0m\u001b[0;34m,\u001b[0m \u001b[0mX\u001b[0m\u001b[0;34m.\u001b[0m\u001b[0miloc\u001b[0m\u001b[0;34m[\u001b[0m\u001b[0mtest_index\u001b[0m\u001b[0;34m]\u001b[0m\u001b[0;34m\u001b[0m\u001b[0;34m\u001b[0m\u001b[0m\n\u001b[0m\u001b[1;32m     33\u001b[0m     \u001b[0my_train\u001b[0m\u001b[0;34m,\u001b[0m \u001b[0my_test\u001b[0m \u001b[0;34m=\u001b[0m \u001b[0my\u001b[0m\u001b[0;34m.\u001b[0m\u001b[0miloc\u001b[0m\u001b[0;34m[\u001b[0m\u001b[0mtrain_index\u001b[0m\u001b[0;34m]\u001b[0m\u001b[0;34m,\u001b[0m \u001b[0my\u001b[0m\u001b[0;34m.\u001b[0m\u001b[0miloc\u001b[0m\u001b[0;34m[\u001b[0m\u001b[0mtest_index\u001b[0m\u001b[0;34m]\u001b[0m\u001b[0;34m\u001b[0m\u001b[0;34m\u001b[0m\u001b[0m\n\u001b[1;32m     34\u001b[0m \u001b[0;34m\u001b[0m\u001b[0m\n",
            "\u001b[0;31mAttributeError\u001b[0m: 'numpy.ndarray' object has no attribute 'iloc'"
          ]
        }
      ],
      "source": [
        "import numpy as np\n",
        "from sklearn.model_selection import train_test_split\n",
        "from sklearn.model_selection import StratifiedShuffleSplit\n",
        "\n",
        "# Creating a synthetic imbalanced dataset\n",
        "np.random.seed(42)\n",
        "X = np.random.rand(100, 2)  # Features\n",
        "y = np.random.choice([0, 1], 100, p=[0.9, 0.1])  # Imbalanced labels with 90% in class 0 and 10% in class 1\n",
        "\n",
        "# Stratified split\n",
        "X_train, X_temp, y_train, y_temp = train_test_split(X, y, test_size=0.3, stratify=y, random_state=42)\n",
        "X_val, X_test, y_val, y_test = train_test_split(X_temp, y_temp, test_size=0.5, stratify=y_temp, random_state=42)\n",
        "\n",
        "# Printing the class distributions in the original dataset and the split sets\n",
        "print(\"Original Class Distribution:\")\n",
        "print(f\"Class 0: {np.sum(y == 0)}, Class 1: {np.sum(y == 1)}\\n\")\n",
        "\n",
        "print(\"Training Set Class Distribution:\")\n",
        "print(f\"Class 0: {np.sum(y_train == 0)}, Class 1: {np.sum(y_train == 1)}\\n\")\n",
        "\n",
        "print(\"Validation Set Class Distribution:\")\n",
        "print(f\"Class 0: {np.sum(y_val == 0)}, Class 1: {np.sum(y_val == 1)}\\n\")\n",
        "\n",
        "print(\"Test Set Class Distribution:\")\n",
        "print(f\"Class 0: {np.sum(y_test == 0)}, Class 1: {np.sum(y_test == 1)}\\n\")\n",
        "\n",
        "# Create StratifiedShuffleSplit object\n",
        "stratified_splitter = StratifiedShuffleSplit(n_splits=1, test_size=0.3, random_state=42)\n",
        "\n",
        "# Perform stratified splitting\n",
        "for train_index, test_index in stratified_splitter.split(X, y):\n",
        "    X_train, X_test = X.iloc[train_index], X.iloc[test_index]\n",
        "    y_train, y_test = y.iloc[train_index], y.iloc[test_index]\n",
        "\n",
        "# Now, you have X_train, X_test, y_train, and y_test for your model training and evaluation"
      ]
    },
    {
      "cell_type": "code",
      "execution_count": null,
      "metadata": {
        "id": "CCrr5DLS_Yiq"
      },
      "outputs": [],
      "source": [
        "# Zaman Serisi Bölme\n",
        "# BUNA DAHA SONRA BAKILACAK!\n",
        "\n",
        "# Zaman serisi verileri için zaman serisi bölünmesi, veri bölümlendirme sırasında kronolojik sıranın korunmasını sağlar. Zaman serisi bölünmesi, günlük hisse senedi fiyatları, aylık hava durumu kayıtları veya saatlik web sitesi trafiği verileri gibi farklı zaman noktalarında kaydedilen bir dizi gözlemden oluşan zaman serisi verilerini işlemek için özel olarak tasarlanmış bir yöntemdir. Zaman serisi verilerinin benzersiz zorluğu, gözlemler genellikle önceki sonuçlara bağlı olduğundan veri noktalarının sırasının çok önemli olmasıdır.\n",
        "\n",
        "# Bu bağlamda, zaman serisi bölünmesi değerlidir. Veri setini eğitim, doğrulama ve test için alt kümelere ayırmak, verilerin zamansal sırasının korunmasını sağlar.\n",
        "\n",
        "#Örneğin, bir yıl için günlük verileriniz varsa, her parça bir haftaya veya bir aya karşılık gelir.\n",
        "#Bu tür zaman serisi bölünmesi, zaman serisi verileri için kritik öneme sahiptir çünkü gelecekteki tahminlerin yalnızca geçmiş olaylara dayalı olabildiği gerçek dünya senaryolarını taklit eder.\n",
        "#Bu kronolojik sırayı koruyarak, zaman serisi bölme işlemi geçmiş verileri kullanarak modelleri eğitmenize ve güncellenmiş verileri kullanarak modelleri doğrulamanıza olanak tanır ve modelin performansını gerçek dünya ortamında simüle etmenizi sağlar."
      ]
    },
    {
      "cell_type": "code",
      "source": [
        "# Zaman serisi bölünmesinde, test kümeleri her zaman eğitim kümelerinden \"daha genç\" veya daha sonradır. Rastgelelik, eğitim ve test kümelerinin boyutlarından kaynaklanır."
      ],
      "metadata": {
        "id": "sG5ftEyH7phJ"
      },
      "execution_count": null,
      "outputs": []
    },
    {
      "cell_type": "code",
      "execution_count": null,
      "metadata": {
        "colab": {
          "base_uri": "https://localhost:8080/"
        },
        "id": "zR3MT68OBBAE",
        "outputId": "138ee789-e882-4edb-a4b4-5de63d7ec49d"
      },
      "outputs": [
        {
          "output_type": "stream",
          "name": "stdout",
          "text": [
            "            Feature1  Feature2  Feature3  Feature4  Feature5\n",
            "2020-01-01  0.374540  0.950714  0.731994  0.598658  0.156019\n",
            "2020-01-02  0.155995  0.058084  0.866176  0.601115  0.708073\n",
            "2020-01-03  0.020584  0.969910  0.832443  0.212339  0.181825\n",
            "2020-01-04  0.183405  0.304242  0.524756  0.431945  0.291229\n",
            "2020-01-05  0.611853  0.139494  0.292145  0.366362  0.456070\n"
          ]
        }
      ],
      "source": [
        "import pandas as pd\n",
        "import numpy as np\n",
        "\n",
        "date_range = pd.date_range(start='2020-01-01', periods=100, freq='D')\n",
        "\n",
        "np.random.seed(42)\n",
        "data = np.random.rand(100, 5)  # 100 gün, 5 özellik\n",
        "df = pd.DataFrame(data, columns=[f'Feature{i+1}' for i in range(5)], index=date_range)\n",
        "\n",
        "print(df.head())"
      ]
    },
    {
      "cell_type": "code",
      "execution_count": null,
      "metadata": {
        "colab": {
          "base_uri": "https://localhost:8080/"
        },
        "id": "gcSQBMxjBccF",
        "outputId": "3f3d3f74-f99f-45aa-ca85-dceae5347d59"
      },
      "outputs": [
        {
          "output_type": "stream",
          "name": "stdout",
          "text": [
            "\n",
            "Eğitim Seti:\n",
            "             Feature1  Feature2  Feature3  Feature4  Feature5\n",
            "2020-01-01  0.374540  0.950714  0.731994  0.598658  0.156019\n",
            "2020-01-02  0.155995  0.058084  0.866176  0.601115  0.708073\n",
            "2020-01-03  0.020584  0.969910  0.832443  0.212339  0.181825\n",
            "2020-01-04  0.183405  0.304242  0.524756  0.431945  0.291229\n",
            "2020-01-05  0.611853  0.139494  0.292145  0.366362  0.456070\n",
            "\n",
            "Test Seti:\n",
            " Empty DataFrame\n",
            "Columns: [Feature1, Feature2, Feature3, Feature4, Feature5]\n",
            "Index: []\n"
          ]
        }
      ],
      "source": [
        "\n",
        "train_end_date = '2020-07-01'\n",
        "test_start_date = '2020-07-02'\n",
        "\n",
        "# Eğitim ve test setleri\n",
        "train_df = df[:train_end_date]\n",
        "test_df = df[test_start_date:]\n",
        "\n",
        "print(\"\\nEğitim Seti:\\n\", train_df.head())\n",
        "print(\"\\nTest Seti:\\n\", test_df.head())"
      ]
    },
    {
      "cell_type": "code",
      "execution_count": null,
      "metadata": {
        "colab": {
          "base_uri": "https://localhost:8080/"
        },
        "id": "E3uLf5J3Bzq4",
        "outputId": "5da57648-34b6-4e90-cdb1-20d8fe871e75"
      },
      "outputs": [
        {
          "output_type": "stream",
          "name": "stdout",
          "text": [
            "\n",
            "Eğitim Seti: 0-19\n",
            "Test Seti: 20-35\n",
            "Eğitim Seti Boyutu: 20, Test Seti Boyutu: 16\n",
            "\n",
            "Eğitim Seti: 0-35\n",
            "Test Seti: 36-51\n",
            "Eğitim Seti Boyutu: 36, Test Seti Boyutu: 16\n",
            "\n",
            "Eğitim Seti: 0-51\n",
            "Test Seti: 52-67\n",
            "Eğitim Seti Boyutu: 52, Test Seti Boyutu: 16\n",
            "\n",
            "Eğitim Seti: 0-67\n",
            "Test Seti: 68-83\n",
            "Eğitim Seti Boyutu: 68, Test Seti Boyutu: 16\n",
            "\n",
            "Eğitim Seti: 0-83\n",
            "Test Seti: 84-99\n",
            "Eğitim Seti Boyutu: 84, Test Seti Boyutu: 16\n"
          ]
        }
      ],
      "source": [
        "from sklearn.model_selection import TimeSeriesSplit\n",
        "\n",
        "# Çarpraz Doğrulama\n",
        "tscv = TimeSeriesSplit(n_splits=5)\n",
        "\n",
        "# Veriyi NumPy dizisine dönüştürme\n",
        "X = df.values\n",
        "y = np.random.randint(0, 2, size=len(df))\n",
        "\n",
        "# Çapraz doğrulama uygulama\n",
        "for train_index, test_index in tscv.split(X):\n",
        "    X_train, X_test = X[train_index], X[test_index]\n",
        "    y_train, y_test = y[train_index], y[test_index]\n",
        "\n",
        "    print(f\"\\nEğitim Seti: {train_index[0]}-{train_index[-1]}\")\n",
        "    print(f\"Test Seti: {test_index[0]}-{test_index[-1]}\")\n",
        "    print(f\"Eğitim Seti Boyutu: {len(train_index)}, Test Seti Boyutu: {len(test_index)}\")"
      ]
    },
    {
      "cell_type": "code",
      "execution_count": null,
      "metadata": {
        "id": "x4aqFcdFCVoz"
      },
      "outputs": [],
      "source": [
        "# K-Fold Cross-Validation\n",
        "\n",
        "# K-Katlı Çapraz Doğrulama, veri setini eşit büyüklükteki \"k\" kata bölerek, birden fazla eğitim ve doğrulama turuna olanak tanır.\n",
        "\n",
        "# K-Fold Çapraz Doğrulama, makine öğrenimi modellerinin performansını ve genelleme yeteneğini değerlendirmek için güçlü bir tekniktir. Mevcut örneklerden en iyi şekilde yararlanarak sınırlı verilerle model performansını etkili bir şekilde değerlendirme zorluğunu ele alır.\n",
        "\n",
        "# Veri Setini Bölme: Veri seti K eşit parçaya bölünür. Her bir parça \"fold\" olarak adlandırılır.\n",
        "# Model Eğitimi ve Testi: K kez model eğitilir ve test edilir. Her defasında, bir parça test seti, kalan K-1 parça ise eğitim seti olarak kullanılır.\n",
        "# Performans Değerlendirmesi: Her bir fold için elde edilen sonuçlar toplanır ve ortalama performans metriği hesaplanır (örneğin, doğruluk)."
      ]
    },
    {
      "cell_type": "code",
      "execution_count": null,
      "metadata": {
        "colab": {
          "base_uri": "https://localhost:8080/"
        },
        "id": "rpymO76XGFb1",
        "outputId": "be097b2b-2d10-498a-ba73-c84e2c0bd734"
      },
      "outputs": [
        {
          "output_type": "stream",
          "name": "stdout",
          "text": [
            "Doğruluk Skorları: [0.95614035 0.96491228 0.93859649 0.97368421 0.92035398]\n",
            "Ortalama Doğruluk: 0.9507374631268437\n",
            "Standart Sapma: 0.019116636583291855\n"
          ]
        }
      ],
      "source": [
        "from sklearn.datasets import load_breast_cancer\n",
        "from sklearn.model_selection import KFold, cross_val_score\n",
        "from sklearn.linear_model import LogisticRegression\n",
        "import numpy as np\n",
        "\n",
        "data = load_breast_cancer()\n",
        "X = data.data\n",
        "y = data.target\n",
        "\n",
        "# Model\n",
        "model = LogisticRegression(max_iter=10000, random_state=42)\n",
        "\n",
        "# K-Fold Çapraz Doğrulama\n",
        "k = 5\n",
        "kf = KFold(n_splits=k, shuffle=True, random_state=42)\n",
        "# Buradaki bölünme değeri olan “k” değeri; genellikle k=5 veya k=10 olarak seçilmektedir.\n",
        "# Örneğin; veri kümenizi 10 parçaya bölerseniz, her bir parça tek tek doğrulama verisi olarak kullanılır ve geri kalan 9 parça ise eğitim verisi olarak kullanılır. Bu işlem 10 kez tekrar edilir ve her seferinde farklı bir parça doğrulama verisi olarak kullanılır.Performans değerlendirmesi için ise; her seferinde elde edilen doğruluk oranlarının ortalaması alınır.\n",
        "\n",
        "# Doğrulama skoru\n",
        "scores = cross_val_score(model, X, y, cv=kf, scoring='accuracy')\n",
        "\n",
        "print(f\"Doğruluk Skorları: {scores}\")\n",
        "print(f\"Ortalama Doğruluk: {np.mean(scores)}\")\n",
        "print(f\"Standart Sapma: {np.std(scores)}\")"
      ]
    },
    {
      "cell_type": "code",
      "execution_count": null,
      "metadata": {
        "id": "YORUi_J4GpWx"
      },
      "outputs": [],
      "source": [
        "# Bu teknik, sınırlı veri kümeleriyle çalışılırken özellikle avantajlıdır, çünkü eğitim ve doğrulama için mevcut verilerin kullanımını en üst düzeye çıkarır ve modelin tahmin yeteneğinin daha sağlam bir tahminini sağlar.\n",
        "# \"k\" yineleme tamamlandıktan sonra, model performansının daha istikrarlı ve temsili bir tahminini sunmak için değerlendirme sonuçlarının ortalaması alınır ve bu da genel değerlendirme üzerindeki veri bölümlendirmesinin etkisini azaltır."
      ]
    },
    {
      "cell_type": "code",
      "execution_count": null,
      "metadata": {
        "id": "TcF1baaqG9jg"
      },
      "outputs": [],
      "source": [
        "# Leave-One-Out Cross-Validation\n",
        "\n",
        "# Leave-One-Out Çapraz Doğrulama, özellikle küçük veri kümeleri için uygun olan kapsamlı bir çapraz doğrulama yöntemidir.\n",
        "# Bu yöntemde, N örneğin her biri bir test örneği olarak alınırken, kalan N-1 örnek eğitim seti olarak hizmet eder. Bu işlem her örnek için tekrarlanır ve N sınıflandırıcı ve N test sonucu elde edilir. Daha sonra modelin performansı bu N sonucun ortalaması alınarak değerlendirilir.\n",
        "# LOOCV, çapraz doğrulama yöntemlerinin en uç hali olup, her bir veri noktasını tek tek doğrulama seti olarak kullanır ve kalan tüm veri noktalarını eğitim seti olarak kullanır.\n",
        "# Hesaplama Maliyeti: Çok yüksek olabilir, özellikle büyük veri setlerinde. Her seferinde tüm veri ile eğitim yapıldığı için zaman ve hesaplama kaynakları gerektirir.\n",
        "# Genelleme: Her bir örnek tek tek test edildiği için, modelin genelleme yeteneğini çok hassas bir şekilde değerlendirir.\n",
        "\n",
        "# K Katlı çarpraz doğrulamada ise veri setini K eşit parçaya böler ve her parça bir test seti olarak kullanılırken kalan K-1 parça eğitim seti olarak kullanılır. Bu işlem K kez tekrarlanır, her seferinde farklı bir parça test seti olarak seçilir.\n",
        "\n"
      ]
    },
    {
      "cell_type": "code",
      "execution_count": null,
      "metadata": {
        "colab": {
          "base_uri": "https://localhost:8080/"
        },
        "id": "aTCQvnC3Ha3x",
        "outputId": "ac9e19cd-bfba-47ad-8e07-5b32f61bd2bc"
      },
      "outputs": [
        {
          "output_type": "stream",
          "name": "stdout",
          "text": [
            "Doğruluk Skorları: [1. 1. 1. 1. 1. 1. 1. 1. 1. 1. 1. 1. 1. 0. 1. 1. 1. 1. 1. 1. 1. 1. 1. 1.\n",
            " 1. 1. 1. 1. 1. 1. 1. 1. 1. 1. 1. 1. 1. 1. 0. 0. 0. 0. 1. 1. 0. 1. 1. 1.\n",
            " 1. 1. 1. 1. 1. 1. 1. 1. 1. 1. 1. 1. 1. 1. 1. 1. 1. 1. 1. 1. 1. 1. 1. 1.\n",
            " 1. 0. 1. 1. 1. 1. 1. 1. 1. 1. 1. 1. 1. 1. 0. 1. 1. 1. 1. 0. 1. 1. 1. 1.\n",
            " 1. 1. 1. 1. 1. 1. 1. 1. 1. 1. 1. 1. 1. 1. 1. 1. 1. 1. 1. 1. 1. 1. 1. 1.\n",
            " 1. 1. 1. 1. 1. 1. 1. 1. 1. 1. 1. 1. 1. 1. 1. 0. 1. 1. 1. 1. 1. 1. 1. 1.\n",
            " 1. 1. 0. 1. 1. 1. 1. 1. 1. 1. 1. 1. 1. 0. 1. 1. 1. 1. 1. 1. 1. 1. 1. 1.\n",
            " 1. 1. 1. 1. 1. 1. 1. 1. 1. 1. 1. 1. 1. 1. 1. 1. 1. 1. 1. 1. 1. 1. 1. 1.\n",
            " 1. 1. 1. 1. 1. 1. 1. 1. 1. 1. 1. 1. 1. 1. 1. 1. 1. 1. 1. 1. 1. 1. 1. 0.\n",
            " 1. 1. 1. 1. 1. 1. 1. 1. 1. 1. 1. 1. 1. 1. 1. 1. 1. 1. 1. 1. 1. 1. 0. 1.\n",
            " 1. 1. 1. 1. 1. 1. 1. 1. 1. 1. 1. 1. 1. 1. 1. 1. 1. 1. 1. 1. 1. 1. 1. 1.\n",
            " 1. 1. 1. 1. 1. 1. 1. 1. 1. 1. 1. 1. 1. 0. 1. 1. 1. 1. 1. 1. 1. 1. 1. 1.\n",
            " 1. 1. 0. 1. 1. 1. 1. 1. 1. 0. 1. 1. 1. 1. 1. 1. 1. 1. 1. 1. 1. 1. 1. 1.\n",
            " 1. 1. 1. 1. 1. 1. 1. 1. 1. 1. 1. 1. 1. 1. 1. 1. 1. 1. 1. 1. 1. 1. 1. 1.\n",
            " 1. 1. 1. 1. 1. 1. 1. 1. 1. 1. 1. 1. 1. 1. 1. 1. 1. 1. 1. 1. 1. 1. 1. 1.\n",
            " 1. 1. 1. 1. 1. 1. 1. 1. 1. 1. 1. 1. 1. 1. 1. 1. 1. 1. 1. 1. 1. 1. 1. 1.\n",
            " 1. 0. 1. 1. 1. 1. 1. 1. 1. 1. 1. 1. 1. 1. 1. 1. 1. 1. 1. 1. 1. 1. 1. 1.\n",
            " 1. 1. 1. 1. 1. 0. 1. 1. 1. 1. 1. 1. 1. 0. 1. 1. 1. 1. 1. 1. 1. 1. 1. 1.\n",
            " 1. 1. 1. 1. 1. 1. 1. 1. 1. 1. 1. 1. 1. 1. 1. 1. 1. 1. 1. 1. 1. 1. 1. 0.\n",
            " 1. 1. 1. 1. 1. 1. 1. 1. 1. 0. 1. 1. 1. 1. 1. 1. 1. 1. 1. 1. 0. 1. 1. 1.\n",
            " 1. 1. 1. 1. 1. 1. 1. 1. 1. 1. 1. 0. 1. 1. 1. 1. 1. 1. 1. 1. 1. 1. 1. 1.\n",
            " 1. 1. 1. 1. 1. 1. 1. 1. 1. 1. 1. 1. 1. 1. 1. 1. 1. 1. 1. 1. 1. 1. 1. 1.\n",
            " 1. 1. 1. 1. 1. 1. 1. 1. 0. 1. 1. 1. 1. 0. 1. 1. 1. 1. 1. 1. 1. 1. 1. 1.\n",
            " 1. 1. 1. 1. 1. 1. 1. 1. 1. 1. 1. 1. 1. 1. 1. 1. 1.]\n",
            "Ortalama Doğruluk: 0.9543057996485061\n",
            "Standart Sapma: 0.20882107270515443\n"
          ]
        }
      ],
      "source": [
        "from sklearn.datasets import load_breast_cancer\n",
        "from sklearn.model_selection import LeaveOneOut, cross_val_score\n",
        "from sklearn.linear_model import LogisticRegression\n",
        "import numpy as np\n",
        "\n",
        "data = load_breast_cancer()\n",
        "X = data.data\n",
        "y = data.target\n",
        "\n",
        "# Model\n",
        "model = LogisticRegression(max_iter=10000, random_state=42)\n",
        "\n",
        "# Leave-One-Out Cross-Validation\n",
        "loo = LeaveOneOut()\n",
        "\n",
        "# Doğrulama skoru\n",
        "scores = cross_val_score(model, X, y, cv=loo, scoring='accuracy')\n",
        "\n",
        "# Sonuçları yazdırma\n",
        "print(f\"Doğruluk Skorları: {scores}\")\n",
        "print(f\"Ortalama Doğruluk: {np.mean(scores)}\")\n",
        "print(f\"Standart Sapma: {np.std(scores)}\")"
      ]
    }
  ],
  "metadata": {
    "colab": {
      "provenance": []
    },
    "kernelspec": {
      "display_name": "Python 3",
      "name": "python3"
    },
    "language_info": {
      "name": "python"
    }
  },
  "nbformat": 4,
  "nbformat_minor": 0
}